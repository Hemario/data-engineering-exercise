{
 "cells": [
  {
   "cell_type": "markdown",
   "source": [
    "# Evaluation criteria\r\n",
    "\r\n",
    "The goal of this assignment is to get a view on your hands-on \"data engineering\" skills.  \r\n",
    "At our company, our data scientists and engineers collaborate on projects.  \r\n",
    "Your main focus will be creating performant & robust data flows.  \r\n",
    "For a take-home-assignment, we cannot grant you access to our infrastructure.  \r\n",
    "The assignement below measures your proficiency in general programming, data science & engineering tasks using python.  \r\n",
    "Completion should not take more than half a day.\r\n",
    "\r\n",
    "**We expect you to be proficient in:**\r\n",
    " * SQL queries (Sybase IQ system)\r\n",
    " * ETL flows (In collaboration with existing teams)\r\n",
    " * General python to glue it all together\r\n",
    " * Python data science ecosystem (Pandas + SKlearn)\r\n",
    " \r\n",
    "**In this exercise we expect you to demonstrate your ability to / knowledge of:**\r\n",
    " * Building a data science runtime\r\n",
    " * PEP8 / Google python styleguide\r\n",
    " * Efficiently getting the job done\r\n",
    " * Choose meaningfull names for variables & functions\r\n",
    " * Writing maintainable code (yes, you might need to document some steps)\r\n",
    " * Help a data scientist present interactive results.\r\n",
    " * Offer predictions via REST api"
   ],
   "metadata": {}
  },
  {
   "cell_type": "markdown",
   "source": [
    "# Setting-up a data science workspace\r\n",
    "\r\n",
    "We allow you full freedom in setting up a data science runtime.  \r\n",
    "The main objective is having a runtime where you can run this notebook and the code you will develop.  \r\n",
    "You can choose for a local setup on your pc, or even a cloud setup if you're up for it.   \r\n",
    "\r\n",
    "**In your environment, you will need things for:**\r\n",
    " * https request\r\n",
    " * python3 (not python2 !!)\r\n",
    " * (geo)pandas\r\n",
    " * interactive maps (e.g. folium, altair, ...)\r\n",
    " * REST apis\r\n",
    " \r\n",
    "**Deliverables we expect**:\r\n",
    " * notebook with the completed assignment\r\n",
    " * list of packages for your runtime (e.g. yml or txt file)\r\n",
    " * evidence of a working API endpoint"
   ],
   "metadata": {}
  },
  {
   "cell_type": "markdown",
   "source": [
    "# Importing packages"
   ],
   "metadata": {}
  },
  {
   "cell_type": "markdown",
   "source": [
    "We would like you to put all your import statements here, together in 1 place.  \r\n",
    "Before submitting, please make sure you remove any unused imports :-)  "
   ],
   "metadata": {}
  },
  {
   "cell_type": "code",
   "execution_count": null,
   "source": [
    "import pandas as pd\r\n",
    "import numpy as np\r\n",
    "import urllib.request, json\r\n",
    "import unittest"
   ],
   "outputs": [],
   "metadata": {}
  },
  {
   "cell_type": "markdown",
   "source": [
    "# Data ingestion exercises\r\n",
    "\r\n",
    "## Getting store location data from an API"
   ],
   "metadata": {}
  },
  {
   "cell_type": "markdown",
   "source": [
    "**Goal:** Obtain a pandas dataframe  \r\n",
    "**Hint:** You will need to normalise/flatten the json, because it contains multiple levels  \r\n",
    "**API call:** https://ecgplacesmw.colruytgroup.com/ecgplacesmw/v3/nl/places/filter/clp-places  "
   ],
   "metadata": {}
  },
  {
   "cell_type": "code",
   "execution_count": null,
   "source": [
    "def get_clp_places(url):\r\n",
    "    with urllib.request.urlopen(url) as req:\r\n",
    "        data = json.loads(req.read().decode())\r\n",
    "    df = pd.json_normalize(data)\r\n",
    "    return df\r\n",
    "\r\n",
    "df_clp = get_clp_places(\"https://ecgplacesmw.colruytgroup.com/ecgplacesmw/v3/nl/places/filter/clp-places\")\r\n",
    "df_clp.head(10)"
   ],
   "outputs": [],
   "metadata": {}
  },
  {
   "cell_type": "markdown",
   "source": [
    "### Quality checks\r\n",
    "\r\n",
    "We would like you to add several checks on this data based on these constraints:  \r\n",
    " * records > 200\r\n",
    " * latitude between 49 and 52\r\n",
    " * longitude between 2 and 7\r\n",
    " \r\n",
    "We dont want you to create a full blown test suite here, we're just gonna use 'asserts' from unittest"
   ],
   "metadata": {}
  },
  {
   "cell_type": "code",
   "execution_count": null,
   "source": [
    "tc = unittest.TestCase('__init__')\r\n",
    "# records > 200\r\n",
    "tc.assertGreater(len(df_clp.index), 200, \"There should be more than 200 records\")\r\n",
    "# latitude between 49 and 52\r\n",
    "tc.assertTrue(\r\n",
    "    ((df_clp[\"geoCoordinates.latitude\"] >= 49) & (df_clp[\"geoCoordinates.latitude\"] <= 52)).all(), \r\n",
    "    \"All stores should have a latitude between 49 and 52\"\r\n",
    ")\r\n",
    "# longitude between 2 and 7\r\n",
    "tc.assertTrue(\r\n",
    "    ((df_clp[\"geoCoordinates.longitude\"] >= 2) & (df_clp[\"geoCoordinates.longitude\"] <= 7)).all(), \r\n",
    "    \"All stores should have a longitude between 2 and 7\"\r\n",
    ")"
   ],
   "outputs": [],
   "metadata": {}
  },
  {
   "cell_type": "markdown",
   "source": [
    "### Feature creation\r\n",
    "\r\n",
    "Create a new column \"antwerpen\" which is 1 for all stores in Antwerpen (province) and 0 for all others "
   ],
   "metadata": {}
  },
  {
   "cell_type": "code",
   "execution_count": null,
   "source": [
    "df_clp[\"antwerpen\"] = np.where((df_clp[\"address.postalcode\"].astype(int) >= 2000) & (df_clp[\"address.postalcode\"].astype(int) < 3000), 1, 0)\r\n",
    "df_clp[\"antwerpen\"].value_counts()"
   ],
   "outputs": [],
   "metadata": {}
  },
  {
   "cell_type": "markdown",
   "source": [
    "## Predict used car value\r\n",
    "\r\n",
    "A datascientist in our team made a basic model to predict car prices.  \r\n",
    "The model was saved to disk ('lgbr_cars.model') using joblib's dump fuctionality.  \r\n",
    "Documentation states the model is a LightGBM Regressor, trained using the sk-learn api.  \r\n",
    "\r\n",
    "**As engineer, your task it to expose this model as REST-api.** \r\n",
    "\r\n",
    "First, retrieve the model via the function below.  \r\n",
    "Change the path according to your setup.  "
   ],
   "metadata": {}
  },
  {
   "cell_type": "code",
   "execution_count": null,
   "source": [
    "## your code goes here\r\n",
    "\r\n",
    "def retrieve_model(path):\r\n",
    "    raise NotImplementedError(\"You need to retrieve the trained model!\")\r\n",
    "    return trained_model\r\n",
    "\r\n",
    "lgbr_cars = retrieve_model(\"../../models/lgbr_cars.model\")\r\n",
    "\r\n",
    "tc.assertEqual(str(type(lgbr_cars)),\"<class 'lightgbm.sklearn.LGBMRegressor'>\", type(lgbr_cars))"
   ],
   "outputs": [],
   "metadata": {}
  },
  {
   "cell_type": "markdown",
   "source": [
    "Now you have your trained model, lets do a functional test based on the parameters below.  \r\n",
    "You have to present the parameters in this order.  \r\n",
    "\r\n",
    "* vehicleType: coupe\r\n",
    "* gearbox: manuell\r\n",
    "* powerPS: 190\r\n",
    "* model: NaN\r\n",
    "* kilometer: 125000\r\n",
    "* monthOfRegistration: 5 \r\n",
    "* fuelType: diesel\r\n",
    "* brand: audi\r\n",
    "\r\n",
    "Based on these parameters, you should get a predicted value of 14026.35068804\r\n",
    "However, the model doesnt accept string inputs, see the integer encoding below:"
   ],
   "metadata": {}
  },
  {
   "cell_type": "code",
   "execution_count": null,
   "source": [
    "model_test_input = [[3,1,190,-1,125000,5,3,1]]"
   ],
   "outputs": [],
   "metadata": {}
  },
  {
   "cell_type": "code",
   "execution_count": null,
   "source": [
    "## your code goes here\r\n",
    "\r\n",
    "def make_prediction(trained_model, single_input):\r\n",
    "    raise NotImplementedError(\"You need to predict the value!\")\r\n",
    "    return predicted_value\r\n",
    "\r\n",
    "predicted_value = make_prediction(lgbr_cars, model_test_input)\r\n",
    "\r\n",
    "tc.assertAlmostEqual(predicted_value, 14026.35, places=2)"
   ],
   "outputs": [],
   "metadata": {}
  },
  {
   "cell_type": "markdown",
   "source": [
    "Now you got this model up and running, we want you to **expose it as a rest api.**  \r\n",
    "We don't expect you to set up any authentication.  \r\n",
    "We're not looking for beautiful inputs, just make it work.  \r\n",
    "**Building this endpoint should NOT be done in a notebook, but in proper .py file(s)**\r\n",
    "\r\n",
    "Once its up and running, use it to predict the following input:\r\n",
    "* [-1,1,0,118,150000,0,1,38] ==> prediction should be 13920.70"
   ],
   "metadata": {}
  },
  {
   "cell_type": "markdown",
   "source": [
    "## Geospatial data exercise\r\n",
    "The goal of this exercise is to read in some data from a shape file and visualize it on a map\r\n",
    "- The map should be dynamic. I want to zoom in and out to see more interesting aspects of the map\r\n",
    "- We want you to visualize the statistical sectors within a distance of 2KM of your home location.\r\n",
    "\r\n",
    "Specific steps to take:\r\n",
    "- Read in the shape file\r\n",
    "- Transform to WGS coordinates\r\n",
    "- Create a distance function (Haversine)\r\n",
    "- Create variables for home_lat, home_lon and perimeter_distance\r\n",
    "- Calculate centroid for each nis district\r\n",
    "- Calculate the distance to home for each nis district centroid \r\n",
    "- Figure out which nis districts are near your home\r\n",
    "- Create dynamic zoomable map\r\n",
    "- Visualize the nis districts near you (centroid <2km away), on the map\r\n"
   ],
   "metadata": {}
  },
  {
   "cell_type": "code",
   "execution_count": null,
   "source": [
    "# Some imports to help you along the way\r\n",
    "import geopandas as gpd\r\n",
    "import folium # you can use any viz library you prefer\r\n"
   ],
   "outputs": [],
   "metadata": {}
  },
  {
   "cell_type": "code",
   "execution_count": null,
   "source": [
    "# part 1: Reading in the data\r\n",
    "# get this file from https://statbel.fgov.be/sites/default/files/files/opendata/Statistische%20sectoren/sh_statbel_statistical_sectors_20200101.shp.zip \r\n",
    "df = gpd.read_file('../../data/external/shapefiles/AD_0_StatisticSector.shp')\r\n",
    "df = df.to_crs({'init': 'epsg:4326'}) # change projection to wgs84 \r\n",
    "\r\n",
    "# One of the data scientists discovered stackoverflow ;-) and copypasted something from https://gis.stackexchange.com/questions/166820/geopandas-return-lat-and-long-of-a-centroid-point\r\n",
    "# A data science engineer should be able to speed this next code up\r\n",
    "\r\n",
    "for i in range(0, len(df)):\r\n",
    "    df.loc[i,'centroid_lon'] = df.geometry.centroid.x.iloc[i]\r\n",
    "    df.loc[i,'centroid_lat'] = df.geometry.centroid.y.iloc[i]"
   ],
   "outputs": [],
   "metadata": {}
  },
  {
   "cell_type": "code",
   "execution_count": null,
   "source": [
    "# Let's create some variables to indicate the location of your interest \r\n",
    "home_lat = NotImplemented\r\n",
    "home_lon = NotImplemented\r\n",
    "perimeter_distance = 2 # km"
   ],
   "outputs": [],
   "metadata": {}
  },
  {
   "cell_type": "code",
   "execution_count": null,
   "source": [
    "# At some point we will need a distance function (google the Haversine formula, and implement it)\r\n",
    "\r\n",
    "def haversine(lat1, lon1, lat2, lon2):\r\n",
    "    raise NotImplementedError('Implement haversine')\r\n"
   ],
   "outputs": [],
   "metadata": {}
  },
  {
   "cell_type": "markdown",
   "source": [
    "Next, implement some sanity checks for your distance function "
   ],
   "metadata": {}
  },
  {
   "cell_type": "code",
   "execution_count": null,
   "source": [
    "# implement sanity checks here"
   ],
   "outputs": [],
   "metadata": {}
  },
  {
   "cell_type": "markdown",
   "source": [
    "Now, create a dynamical map "
   ],
   "metadata": {}
  },
  {
   "cell_type": "code",
   "execution_count": null,
   "source": [
    "# implementation of the map goes here"
   ],
   "outputs": [],
   "metadata": {}
  },
  {
   "cell_type": "code",
   "execution_count": null,
   "source": [],
   "outputs": [],
   "metadata": {}
  },
  {
   "cell_type": "code",
   "execution_count": null,
   "source": [],
   "outputs": [],
   "metadata": {}
  },
  {
   "cell_type": "code",
   "execution_count": null,
   "source": [],
   "outputs": [],
   "metadata": {}
  }
 ],
 "metadata": {
  "kernelspec": {
   "name": "python3",
   "display_name": "Python 3.9.7 64-bit ('.venv': venv)"
  },
  "language_info": {
   "codemirror_mode": {
    "name": "ipython",
    "version": 3
   },
   "file_extension": ".py",
   "mimetype": "text/x-python",
   "name": "python",
   "nbconvert_exporter": "python",
   "pygments_lexer": "ipython3",
   "version": "3.9.7"
  },
  "interpreter": {
   "hash": "17a51c22ee0d44991b45c50660ba115b0a8c796dbce19ba50e2a1eaaf19769c6"
  }
 },
 "nbformat": 4,
 "nbformat_minor": 4
}